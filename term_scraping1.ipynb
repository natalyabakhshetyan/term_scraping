{
 "cells": [
  {
   "cell_type": "markdown",
   "metadata": {},
   "source": [
    "This notebook contains the second round of scraping.\n",
    "\n",
    "The new terms were manually collected from the following textbooks' index sections:\n",
    "\n",
    "- Data Science & Big Data Analytics: Discovering, Analyzing, Visualizing and Presenting Data; EMC Education Services\n",
    "- Data Science from Scratch by Joel Grus"
   ]
  },
  {
   "cell_type": "code",
   "execution_count": 104,
   "metadata": {},
   "outputs": [],
   "source": [
    "import requests\n",
    "import pandas as pd\n",
    "import csv"
   ]
  },
  {
   "cell_type": "code",
   "execution_count": 93,
   "metadata": {},
   "outputs": [
    {
     "data": {
      "text/html": [
       "<div>\n",
       "<style scoped>\n",
       "    .dataframe tbody tr th:only-of-type {\n",
       "        vertical-align: middle;\n",
       "    }\n",
       "\n",
       "    .dataframe tbody tr th {\n",
       "        vertical-align: top;\n",
       "    }\n",
       "\n",
       "    .dataframe thead th {\n",
       "        text-align: right;\n",
       "    }\n",
       "</style>\n",
       "<table border=\"1\" class=\"dataframe\">\n",
       "  <thead>\n",
       "    <tr style=\"text-align: right;\">\n",
       "      <th></th>\n",
       "      <th>0</th>\n",
       "    </tr>\n",
       "  </thead>\n",
       "  <tbody>\n",
       "    <tr>\n",
       "      <th>0</th>\n",
       "      <td>AB Testing</td>\n",
       "    </tr>\n",
       "    <tr>\n",
       "      <th>1</th>\n",
       "      <td>Key</td>\n",
       "    </tr>\n",
       "    <tr>\n",
       "      <th>2</th>\n",
       "      <td>genetic algorithm</td>\n",
       "    </tr>\n",
       "    <tr>\n",
       "      <th>3</th>\n",
       "      <td>population</td>\n",
       "    </tr>\n",
       "    <tr>\n",
       "      <th>4</th>\n",
       "      <td>graph database</td>\n",
       "    </tr>\n",
       "  </tbody>\n",
       "</table>\n",
       "</div>"
      ],
      "text/plain": [
       "                   0\n",
       "0         AB Testing\n",
       "1                Key\n",
       "2  genetic algorithm\n",
       "3         population\n",
       "4     graph database"
      ]
     },
     "execution_count": 93,
     "metadata": {},
     "output_type": "execute_result"
    }
   ],
   "source": [
    "# create a data frame with initial terms\n",
    "initial_df = pd.read_csv('initial_terms1.csv', header=None)\n",
    "initial_df.head()"
   ]
  },
  {
   "cell_type": "code",
   "execution_count": 94,
   "metadata": {},
   "outputs": [
    {
     "data": {
      "text/html": [
       "<div>\n",
       "<style scoped>\n",
       "    .dataframe tbody tr th:only-of-type {\n",
       "        vertical-align: middle;\n",
       "    }\n",
       "\n",
       "    .dataframe tbody tr th {\n",
       "        vertical-align: top;\n",
       "    }\n",
       "\n",
       "    .dataframe thead th {\n",
       "        text-align: right;\n",
       "    }\n",
       "</style>\n",
       "<table border=\"1\" class=\"dataframe\">\n",
       "  <thead>\n",
       "    <tr style=\"text-align: right;\">\n",
       "      <th></th>\n",
       "      <th>0</th>\n",
       "    </tr>\n",
       "  </thead>\n",
       "  <tbody>\n",
       "    <tr>\n",
       "      <th>0</th>\n",
       "      <td>A/B testing</td>\n",
       "    </tr>\n",
       "    <tr>\n",
       "      <th>1</th>\n",
       "      <td>model performance</td>\n",
       "    </tr>\n",
       "    <tr>\n",
       "      <th>2</th>\n",
       "      <td>accuracy</td>\n",
       "    </tr>\n",
       "    <tr>\n",
       "      <th>3</th>\n",
       "      <td>Application programming interface</td>\n",
       "    </tr>\n",
       "    <tr>\n",
       "      <th>4</th>\n",
       "      <td>argument packing</td>\n",
       "    </tr>\n",
       "  </tbody>\n",
       "</table>\n",
       "</div>"
      ],
      "text/plain": [
       "                                   0\n",
       "0                        A/B testing\n",
       "1                  model performance\n",
       "2                           accuracy\n",
       "3  Application programming interface\n",
       "4                   argument packing"
      ]
     },
     "execution_count": 94,
     "metadata": {},
     "output_type": "execute_result"
    }
   ],
   "source": [
    "# create a data frame with new terms\n",
    "new_df = pd.read_csv('new_terms1.csv', header=None)\n",
    "new_df.head()"
   ]
  },
  {
   "cell_type": "code",
   "execution_count": 95,
   "metadata": {},
   "outputs": [
    {
     "data": {
      "text/plain": [
       "(535, 1)"
      ]
     },
     "execution_count": 95,
     "metadata": {},
     "output_type": "execute_result"
    }
   ],
   "source": [
    "new_df.shape"
   ]
  },
  {
   "cell_type": "code",
   "execution_count": 96,
   "metadata": {},
   "outputs": [],
   "source": [
    "# drop duplicates from the new terms\n",
    "new_df = new_df.drop_duplicates()"
   ]
  },
  {
   "cell_type": "code",
   "execution_count": 97,
   "metadata": {},
   "outputs": [
    {
     "data": {
      "text/plain": [
       "(499, 1)"
      ]
     },
     "execution_count": 97,
     "metadata": {},
     "output_type": "execute_result"
    }
   ],
   "source": [
    "new_df.shape"
   ]
  },
  {
   "cell_type": "code",
   "execution_count": 98,
   "metadata": {},
   "outputs": [],
   "source": [
    "# convert data frames to lists\n",
    "initial_l = pd.Series(initial_df[0]).tolist()\n",
    "new_l = pd.Series(new_df[0]).tolist()"
   ]
  },
  {
   "cell_type": "code",
   "execution_count": 99,
   "metadata": {},
   "outputs": [
    {
     "data": {
      "text/plain": [
       "['ab testing', 'key', 'genetic algorithm', 'population', 'graph database']"
      ]
     },
     "execution_count": 99,
     "metadata": {},
     "output_type": "execute_result"
    }
   ],
   "source": [
    "# make all terms in initial list lowercase\n",
    "\n",
    "for i in range(len(initial_l)):\n",
    "    initial_l[i] = initial_l[i].lower()\n",
    "    \n",
    "    \n",
    "initial_l[:5]"
   ]
  },
  {
   "cell_type": "code",
   "execution_count": 100,
   "metadata": {},
   "outputs": [],
   "source": [
    "# create a list for unique terms\n",
    "new_unique_l = []"
   ]
  },
  {
   "cell_type": "code",
   "execution_count": 101,
   "metadata": {},
   "outputs": [
    {
     "name": "stdout",
     "output_type": "stream",
     "text": [
      "accuracy\n",
      "backpropogation\n",
      "bagging\n",
      "bar chart\n",
      "bootstrapping\n",
      "causation\n",
      "correlation\n",
      "mean\n",
      "median\n",
      "mode\n",
      "quantile\n",
      "clustering\n",
      "confusion matrix\n",
      "simple linear regression\n",
      "outlier\n",
      "cosine similarity\n",
      "covariance\n",
      "data exploration\n",
      "data mining\n",
      "data science\n",
      "data visualization\n",
      "line chart\n",
      "database\n",
      "decision tree\n",
      "random forest\n",
      "standard deviation\n",
      "variance\n",
      "binomial distribution\n",
      "normal distribution\n",
      "dummy variable\n",
      "multiple linear regression\n",
      "standard error\n",
      "false positive\n",
      "feature selection\n",
      "gradient descent\n",
      "hierarchical clustering\n",
      "histogram\n",
      "parsing\n",
      "hypothesis\n",
      "Lasso regression\n",
      "matrix\n",
      "vector\n",
      "linear algebra\n",
      "linear regression\n",
      "goodness of fit\n",
      "regularization\n",
      "logistic regression\n",
      "machine learning\n",
      "bias-variance trade-off\n",
      "data modeling\n",
      "overfitting\n",
      "underfitting\n",
      "algorithm\n",
      "n-gram model\n",
      "natural language processing\n",
      "network analysis\n",
      "neural network\n",
      "perceptron\n",
      "node\n",
      "p-value\n",
      "standard normal distribution\n",
      "null hypothesis\n",
      "posterior distribution\n",
      "precision\n",
      "recall\n",
      "predictive modeling\n",
      "regression\n",
      "relational database\n",
      "ridge regression\n",
      "scalar\n",
      "sigmoid function\n",
      "supervised learning\n",
      "table\n",
      "normalization\n",
      "tokenization\n",
      "unsupervised learning\n",
      "data engineer\n",
      "time series\n",
      "forecasting\n",
      "Big Data\n",
      "boosting\n",
      "categorical variable\n",
      "data type\n",
      "naive Bayes classifier\n",
      "data wrangling\n",
      "model selection\n",
      "semi-structured data\n",
      "structured data\n",
      "unstructured data\n",
      "independent variable\n",
      "residual\n",
      "false negative\n",
      "true negative\n",
      "true positive\n",
      "type II error\n",
      "lasso regression\n",
      "market basket analysis\n",
      "t-distribution\n",
      "time series analysis\n",
      "validation\n",
      "dependent variable\n"
     ]
    }
   ],
   "source": [
    "# append term to the new unique terms list if it's not present in the initial list\n",
    "for term in new_l:\n",
    "    if term.lower() not in initial_l:\n",
    "        new_unique_l.append(term)\n",
    "    else:\n",
    "        print(term)"
   ]
  },
  {
   "cell_type": "code",
   "execution_count": 103,
   "metadata": {},
   "outputs": [
    {
     "data": {
      "text/plain": [
       "398"
      ]
     },
     "execution_count": 103,
     "metadata": {},
     "output_type": "execute_result"
    }
   ],
   "source": [
    "# get how many terms were added\n",
    "len(new_unique_l)"
   ]
  },
  {
   "cell_type": "code",
   "execution_count": 108,
   "metadata": {},
   "outputs": [],
   "source": [
    "# convert new unique terms list to a data frame\n",
    "new_unique_terms_df = pd.DataFrame(new_unique_l)"
   ]
  },
  {
   "cell_type": "code",
   "execution_count": 109,
   "metadata": {},
   "outputs": [
    {
     "data": {
      "text/html": [
       "<div>\n",
       "<style scoped>\n",
       "    .dataframe tbody tr th:only-of-type {\n",
       "        vertical-align: middle;\n",
       "    }\n",
       "\n",
       "    .dataframe tbody tr th {\n",
       "        vertical-align: top;\n",
       "    }\n",
       "\n",
       "    .dataframe thead th {\n",
       "        text-align: right;\n",
       "    }\n",
       "</style>\n",
       "<table border=\"1\" class=\"dataframe\">\n",
       "  <thead>\n",
       "    <tr style=\"text-align: right;\">\n",
       "      <th></th>\n",
       "      <th>0</th>\n",
       "    </tr>\n",
       "  </thead>\n",
       "  <tbody>\n",
       "    <tr>\n",
       "      <th>0</th>\n",
       "      <td>A/B testing</td>\n",
       "    </tr>\n",
       "    <tr>\n",
       "      <th>1</th>\n",
       "      <td>model performance</td>\n",
       "    </tr>\n",
       "    <tr>\n",
       "      <th>2</th>\n",
       "      <td>Application programming interface</td>\n",
       "    </tr>\n",
       "    <tr>\n",
       "      <th>3</th>\n",
       "      <td>argument packing</td>\n",
       "    </tr>\n",
       "    <tr>\n",
       "      <th>4</th>\n",
       "      <td>argument unpacking</td>\n",
       "    </tr>\n",
       "  </tbody>\n",
       "</table>\n",
       "</div>"
      ],
      "text/plain": [
       "                                   0\n",
       "0                        A/B testing\n",
       "1                  model performance\n",
       "2  Application programming interface\n",
       "3                   argument packing\n",
       "4                 argument unpacking"
      ]
     },
     "execution_count": 109,
     "metadata": {},
     "output_type": "execute_result"
    }
   ],
   "source": [
    "new_unique_terms_df.head()"
   ]
  },
  {
   "cell_type": "code",
   "execution_count": 110,
   "metadata": {},
   "outputs": [
    {
     "data": {
      "text/plain": [
       "(398, 1)"
      ]
     },
     "execution_count": 110,
     "metadata": {},
     "output_type": "execute_result"
    }
   ],
   "source": [
    "new_unique_terms_df.shape"
   ]
  },
  {
   "cell_type": "code",
   "execution_count": 111,
   "metadata": {},
   "outputs": [],
   "source": [
    "#save the clean new terms data frame into a new csv file\n",
    "new_unique_terms_df.to_csv (r'new_unique_terms.csv', index = False, header=False)"
   ]
  },
  {
   "cell_type": "code",
   "execution_count": null,
   "metadata": {},
   "outputs": [],
   "source": []
  }
 ],
 "metadata": {
  "kernelspec": {
   "display_name": "Python [conda env:root] *",
   "language": "python",
   "name": "conda-root-py"
  },
  "language_info": {
   "codemirror_mode": {
    "name": "ipython",
    "version": 3
   },
   "file_extension": ".py",
   "mimetype": "text/x-python",
   "name": "python",
   "nbconvert_exporter": "python",
   "pygments_lexer": "ipython3",
   "version": "3.7.3"
  }
 },
 "nbformat": 4,
 "nbformat_minor": 2
}
