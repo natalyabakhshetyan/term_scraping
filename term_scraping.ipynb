{
 "cells": [
  {
   "cell_type": "markdown",
   "metadata": {},
   "source": [
    "This notebook contains the first round of scraping.\n",
    "\n",
    "The code in this notebook is used to scrape data science terms from the following sources:\n",
    "1. https://www.datasciencecentral.com/profiles/blogs/data-science-glossary\n",
    "2. https://towardsdatascience.com/ai-ml-or-data-science-a-glossary-of-terms-529435823bb6\n",
    "3. https://www.kdnuggets.com/2018/02/data-science-glossary.html\n",
    "4. https://www.kaggle.com/shivamb/data-science-glossary-on-kaggle\n",
    "5. https://www.google.com/amp/s/acadgild.com/blog/the-data-science-glossary-the-fundamentals-data-science/amp\n",
    "6. https://www.google.com/amp/s/mc.ai/data-science-glossary/%3Famp\n",
    "7. https://medium.com/@ODSC/the-2019-data-science-dictionary-key-terms-you-need-to-know-f6abe4082c40\n",
    "8. http://www.datascienceglossary.org/\n",
    "9. https://www.datacamp.com/community/news/data-science-dictionary-fa1c3g1oc2p\n",
    "10. https://towardsdatascience.com/the-new-data-scientist-glossary-4a2c14bf550\n",
    "11. https://www.springboard.com/blog/data-science-terms/#\n",
    "12. https://www.analyticsvidhya.com/glossary-of-common-statistics-and-machine-learning-terms/\n",
    "13. https://opendatascience.com/the-2020-data-science-dictionary-key-terms-you-need-to-know/\n",
    "14. https://www.dataquest.io/blog/data-science-glossary/\n",
    "15. https://www.datasciencecentral.com/profiles/blogs/my-data-science-glossary\n",
    "16. https://www.bernardmarr.com/default.asp?contentID=1446\n",
    "17. https://cdn2.hubspot.net/hubfs/488776/Summit/Partner_Summit_2016/Data_Science_Glossary.pdf\n",
    "18. http://rocketdatascience.org/?p=1253"
   ]
  },
  {
   "cell_type": "markdown",
   "metadata": {},
   "source": [
    "Notes:\n",
    "\n",
    "- Terms from sources #2 and #17 will be added manually.\n",
    "- Source #15 is a duplicate.\n",
    "- Source #18 contains other glossary sources, which can be considered for collecting more terms in the future.\n",
    "- The collected data will require some manual cleaning. The easiest way to do it is to order the terms in alphabetical order in the google sheet and then remove duplicates or wrong terms."
   ]
  },
  {
   "cell_type": "code",
   "execution_count": 219,
   "metadata": {},
   "outputs": [],
   "source": [
    "from lxml import html\n",
    "import requests\n",
    "import pandas as pd"
   ]
  },
  {
   "cell_type": "code",
   "execution_count": 220,
   "metadata": {},
   "outputs": [
    {
     "data": {
      "text/html": [
       "<div>\n",
       "<style scoped>\n",
       "    .dataframe tbody tr th:only-of-type {\n",
       "        vertical-align: middle;\n",
       "    }\n",
       "\n",
       "    .dataframe tbody tr th {\n",
       "        vertical-align: top;\n",
       "    }\n",
       "\n",
       "    .dataframe thead th {\n",
       "        text-align: right;\n",
       "    }\n",
       "</style>\n",
       "<table border=\"1\" class=\"dataframe\">\n",
       "  <thead>\n",
       "    <tr style=\"text-align: right;\">\n",
       "      <th></th>\n",
       "      <th>0</th>\n",
       "    </tr>\n",
       "  </thead>\n",
       "  <tbody>\n",
       "    <tr>\n",
       "      <th>0</th>\n",
       "      <td>data augmentation</td>\n",
       "    </tr>\n",
       "    <tr>\n",
       "      <th>1</th>\n",
       "      <td>convex function</td>\n",
       "    </tr>\n",
       "    <tr>\n",
       "      <th>2</th>\n",
       "      <td>cosine similarity</td>\n",
       "    </tr>\n",
       "    <tr>\n",
       "      <th>3</th>\n",
       "      <td>concave</td>\n",
       "    </tr>\n",
       "    <tr>\n",
       "      <th>4</th>\n",
       "      <td>cost function</td>\n",
       "    </tr>\n",
       "  </tbody>\n",
       "</table>\n",
       "</div>"
      ],
      "text/plain": [
       "                   0\n",
       "0  data augmentation\n",
       "1    convex function\n",
       "2  cosine similarity\n",
       "3            concave\n",
       "4      cost function"
      ]
     },
     "execution_count": 220,
     "metadata": {},
     "output_type": "execute_result"
    }
   ],
   "source": [
    "# create a data frame with initial terms\n",
    "initial_df = pd.read_csv('initial_terms.csv', header=None)\n",
    "initial_df.head()"
   ]
  },
  {
   "cell_type": "code",
   "execution_count": 221,
   "metadata": {},
   "outputs": [],
   "source": [
    "#convert data frame with initial terms to a list\n",
    "initial_terms = initial_df[0].to_list()"
   ]
  },
  {
   "cell_type": "code",
   "execution_count": 288,
   "metadata": {},
   "outputs": [],
   "source": [
    "#convert data in initial terms to lowercase\n",
    "initial_terms = [i.lower() for i in initial_terms]"
   ]
  },
  {
   "cell_type": "code",
   "execution_count": 222,
   "metadata": {},
   "outputs": [],
   "source": [
    "# get html and save it in tree\n",
    "\n",
    "page = requests.get('https://www.datasciencecentral.com/profiles/blogs/data-science-glossary')\n",
    "tree1 = html.fromstring(page.content)"
   ]
  },
  {
   "cell_type": "code",
   "execution_count": 223,
   "metadata": {},
   "outputs": [],
   "source": [
    "# get html and save it in tree\n",
    "\n",
    "page = requests.get('https://www.kdnuggets.com/2018/02/data-science-glossary.html')\n",
    "tree3a = html.fromstring(page.content)"
   ]
  },
  {
   "cell_type": "code",
   "execution_count": 224,
   "metadata": {},
   "outputs": [],
   "source": [
    "# get html and save it in tree\n",
    "\n",
    "page = requests.get('https://www.kdnuggets.com/2018/02/data-science-glossary.html/2')\n",
    "tree3b = html.fromstring(page.content)"
   ]
  },
  {
   "cell_type": "code",
   "execution_count": 225,
   "metadata": {},
   "outputs": [],
   "source": [
    "# get html and save it in tree\n",
    "\n",
    "page = requests.get('https://www.kaggleusercontent.com/kf/8286393/eyJhbGciOiJkaXIiLCJlbmMiOiJBMTI4Q0JDLUhTMjU2In0..zmY9Ntqb6g7WHUCFc_XlBQ.5XTY1qWWVXxIuIwCcxjhHCqOxmFa7GHwzZFJCyC5xAQ8-KjB2pOZgsExyiqWbtJvfmT12vmip_l9VOZRKgod951EWJ429y8-E99_olQmleQKPS6rjm1vP-ADgiQJLcBnM3x9ZPV-Oamathodbt7LKgbTLmwDZ3vB7cuYs4sqd2al01vRBAvbi8aFz4W5pK1wvis1Jn2RuajKLDIGSA4zwaqCPnDKyUEz5FAUqP2GB80S9Dd_cUDSjgI5GshgWACv0uD7u2m8XpT2R9dW0k0LmVu6yY0VLSkCzYrgAuRc6wMBMr8KVbkq1-o5SqZSOp1jzRj_1SLuJdsm6fw5iOKns7uV333GXdECDGbUycRxXIr9RtklKaNZrd_E40KYNtTbRrp01d6fhYRpJl0Oe2JROHUETd8eVGPdGtu4RFwe9hmxVNcSqY3oNhaSMii8idSHYAgwzqPpJF0ht8f1PAU5Px68_W-8mME5nv-_-4qHd8Y49wVRy-Ihrs5mZeFQbVywwj7PX26IJWBFc1u5DHNl1-huWSouwVrESf9MzvVfgjW2zsP1B3nvj76E-92ynslMAX7PJtiP-b5eIPOL3IudfKPb7dB17ccarZeVv4vGmysZ11gPMHDFDvv4C6EM5EkDaAexzBR4UXq8aMat94z-KC5Tx3IFBkGINpQe7VmTHoA.q5SrcJiy7vhk3OKvzxXvMg/__results__.html')\n",
    "tree4 = html.fromstring(page.content)"
   ]
  },
  {
   "cell_type": "code",
   "execution_count": 226,
   "metadata": {},
   "outputs": [],
   "source": [
    "# get html and save it in tree\n",
    "\n",
    "page = requests.get('https://acadgild.com/blog/the-data-science-glossary-the-fundamentals-data-science')\n",
    "tree5 = html.fromstring(page.content)"
   ]
  },
  {
   "cell_type": "code",
   "execution_count": 227,
   "metadata": {},
   "outputs": [],
   "source": [
    "# get html and save it in tree\n",
    "\n",
    "page = requests.get('https://mc.ai/data-science-glossary/')\n",
    "tree6 = html.fromstring(page.content)"
   ]
  },
  {
   "cell_type": "code",
   "execution_count": 228,
   "metadata": {},
   "outputs": [],
   "source": [
    "# get html and save it in tree\n",
    "\n",
    "page = requests.get('https://medium.com/@ODSC/the-2019-data-science-dictionary-key-terms-you-need-to-know-f6abe4082c40')\n",
    "tree7 = html.fromstring(page.content)"
   ]
  },
  {
   "cell_type": "code",
   "execution_count": 229,
   "metadata": {},
   "outputs": [],
   "source": [
    "# get html and save it in tree\n",
    "page = requests.get('http://www.datascienceglossary.org/')\n",
    "tree8 = html.fromstring(page.content)"
   ]
  },
  {
   "cell_type": "code",
   "execution_count": 230,
   "metadata": {},
   "outputs": [],
   "source": [
    "# get html and save it in tree\n",
    "page = requests.get('https://www.analyticbridge.datasciencecentral.com/profiles/blogs/2004291:BlogPost:223153?utm_campaign=News&utm_medium=Community&utm_source=DataCamp.com')\n",
    "tree9 = html.fromstring(page.content)"
   ]
  },
  {
   "cell_type": "code",
   "execution_count": 231,
   "metadata": {},
   "outputs": [],
   "source": [
    "# get html and save it in tree\n",
    "page = requests.get('https://towardsdatascience.com/the-new-data-scientist-glossary-4a2c14bf550')\n",
    "tree10 = html.fromstring(page.content)"
   ]
  },
  {
   "cell_type": "code",
   "execution_count": 232,
   "metadata": {},
   "outputs": [],
   "source": [
    "# get html and save it in tree\n",
    "page = requests.get('https://www.springboard.com/blog/data-science-terms/#')\n",
    "tree11 = html.fromstring(page.content)"
   ]
  },
  {
   "cell_type": "code",
   "execution_count": 233,
   "metadata": {},
   "outputs": [],
   "source": [
    "# get html and save it in tree\n",
    "page = requests.get('https://www.analyticsvidhya.com/glossary-of-common-statistics-and-machine-learning-terms/')\n",
    "tree12 = html.fromstring(page.content)"
   ]
  },
  {
   "cell_type": "code",
   "execution_count": 234,
   "metadata": {},
   "outputs": [],
   "source": [
    "# get html and save it in tree\n",
    "page = requests.get('https://opendatascience.com/the-2020-data-science-dictionary-key-terms-you-need-to-know/')\n",
    "tree13 = html.fromstring(page.content)"
   ]
  },
  {
   "cell_type": "code",
   "execution_count": 235,
   "metadata": {},
   "outputs": [],
   "source": [
    "# get html and save it in tree\n",
    "page = requests.get('https://www.dataquest.io/blog/data-science-glossary/')\n",
    "tree14 = html.fromstring(page.content)"
   ]
  },
  {
   "cell_type": "code",
   "execution_count": 236,
   "metadata": {},
   "outputs": [],
   "source": [
    "# get html and save it in tree\n",
    "page = requests.get('https://www.bernardmarr.com/default.asp?contentID=1446')\n",
    "tree16 = html.fromstring(page.content)"
   ]
  },
  {
   "cell_type": "code",
   "execution_count": 237,
   "metadata": {},
   "outputs": [],
   "source": [
    "# get the terms from html and save in a list\n",
    "terms1 = tree1.xpath('// div [@ class = \"xg_user_generated\"] //li// text()')\n",
    "terms3a = tree3a.xpath('// div [@ id = \"post-\"] //b// text()')\n",
    "terms3b = tree3b.xpath('// div [@ id = \"post-\"] //b// text()')\n",
    "terms4 = tree4.xpath('// div [@ class = \"text_cell_render border-box-sizing rendered_html\"] //li//a// text()')\n",
    "terms5 = tree5.xpath('//h2//text()')\n",
    "terms6 = tree6.xpath('//h3//text()')\n",
    "terms7 = tree7.xpath('//strong//text()')\n",
    "terms8 = tree8.xpath('//dfn//text()')\n",
    "terms9 = tree9.xpath('// div [@ class = \"xg_user_generated\"]//li//span//text()')\n",
    "terms10 = tree10.xpath('//h2//text()')\n",
    "terms11 = tree11.xpath('//h3//text()')\n",
    "terms12 = tree12.xpath('//td//b//text()')\n",
    "terms13 = tree13.xpath('//b//text()')\n",
    "terms14 = tree14.xpath('//h3//text()')\n",
    "terms16 = tree16.xpath('//p//strong//text()')"
   ]
  },
  {
   "cell_type": "code",
   "execution_count": 238,
   "metadata": {},
   "outputs": [],
   "source": [
    "# extract terms from each string in the list of terms1\n",
    "terms1 = [i.split(':', 1)[0] for i in terms1]"
   ]
  },
  {
   "cell_type": "code",
   "execution_count": 239,
   "metadata": {},
   "outputs": [],
   "source": [
    "# extract terms from each string in the list of terms3\n",
    "terms4 = [i.split(' ', 1)[1] for i in terms4]"
   ]
  },
  {
   "cell_type": "code",
   "execution_count": 240,
   "metadata": {},
   "outputs": [],
   "source": [
    "# extract terms from each string in the list of terms7\n",
    "terms7 = [i.split(':')[0] for i in terms7]"
   ]
  },
  {
   "cell_type": "code",
   "execution_count": 241,
   "metadata": {},
   "outputs": [],
   "source": [
    "# remove wrong items from terms 14 list\n",
    "terms14 = terms14[4:]\n",
    "# extract terms from each string in the list of terms14\n",
    "terms14= [i.split('\\n    ')[1] for i in terms14]"
   ]
  },
  {
   "cell_type": "code",
   "execution_count": 242,
   "metadata": {},
   "outputs": [],
   "source": [
    "# combine all lists into one list\n",
    "terms = terms1 + terms3a + terms3b + terms4 + terms5 + terms6 + terms7 + terms8 + terms9 + terms10 + terms11 + terms12 + terms13 + terms14 + terms16"
   ]
  },
  {
   "cell_type": "code",
   "execution_count": 243,
   "metadata": {},
   "outputs": [
    {
     "data": {
      "text/plain": [
       "758"
      ]
     },
     "execution_count": 243,
     "metadata": {},
     "output_type": "execute_result"
    }
   ],
   "source": [
    "# length of terms list before removing duplicates\n",
    "len(terms)"
   ]
  },
  {
   "cell_type": "code",
   "execution_count": 244,
   "metadata": {},
   "outputs": [],
   "source": [
    "# remove duplicates from list\n",
    "def remove_duplicates(l):\n",
    "  return list(dict.fromkeys(l))\n",
    "\n",
    "terms = remove_duplicates(terms)"
   ]
  },
  {
   "cell_type": "code",
   "execution_count": 245,
   "metadata": {},
   "outputs": [
    {
     "data": {
      "text/plain": [
       "552"
      ]
     },
     "execution_count": 245,
     "metadata": {},
     "output_type": "execute_result"
    }
   ],
   "source": [
    "# length of terms list after removing duplicates\n",
    "len(terms)"
   ]
  },
  {
   "cell_type": "code",
   "execution_count": 290,
   "metadata": {},
   "outputs": [],
   "source": [
    "# create a list for new terms\n",
    "new_terms = []"
   ]
  },
  {
   "cell_type": "code",
   "execution_count": 291,
   "metadata": {},
   "outputs": [],
   "source": [
    "# append term to the new list if it's not present in the initial list\n",
    "for term in terms:\n",
    "    if term.lower() not in initial_terms:\n",
    "        new_terms.append(term)"
   ]
  },
  {
   "cell_type": "code",
   "execution_count": 292,
   "metadata": {},
   "outputs": [
    {
     "data": {
      "text/plain": [
       "453"
      ]
     },
     "execution_count": 292,
     "metadata": {},
     "output_type": "execute_result"
    }
   ],
   "source": [
    "# get how many new terms were added\n",
    "len(new_terms)"
   ]
  },
  {
   "cell_type": "code",
   "execution_count": 293,
   "metadata": {},
   "outputs": [],
   "source": [
    "# convert new list to a data frame\n",
    "new_terms_df = pd.DataFrame(new_terms,columns=['terms'])"
   ]
  },
  {
   "cell_type": "code",
   "execution_count": 294,
   "metadata": {},
   "outputs": [
    {
     "data": {
      "text/html": [
       "<div>\n",
       "<style scoped>\n",
       "    .dataframe tbody tr th:only-of-type {\n",
       "        vertical-align: middle;\n",
       "    }\n",
       "\n",
       "    .dataframe tbody tr th {\n",
       "        vertical-align: top;\n",
       "    }\n",
       "\n",
       "    .dataframe thead th {\n",
       "        text-align: right;\n",
       "    }\n",
       "</style>\n",
       "<table border=\"1\" class=\"dataframe\">\n",
       "  <thead>\n",
       "    <tr style=\"text-align: right;\">\n",
       "      <th></th>\n",
       "      <th>terms</th>\n",
       "    </tr>\n",
       "  </thead>\n",
       "  <tbody>\n",
       "    <tr>\n",
       "      <th>38</th>\n",
       "      <td>A recurrent neural network is a class of artif...</td>\n",
       "    </tr>\n",
       "    <tr>\n",
       "      <th>178</th>\n",
       "      <td>Neural Style Transfer (AI in art) with Keras a...</td>\n",
       "    </tr>\n",
       "    <tr>\n",
       "      <th>179</th>\n",
       "      <td>Artificial intelligence enables COVID-19 lung ...</td>\n",
       "    </tr>\n",
       "    <tr>\n",
       "      <th>281</th>\n",
       "      <td>(R-Square): The method preferred by statistic...</td>\n",
       "    </tr>\n",
       "    <tr>\n",
       "      <th>287</th>\n",
       "      <td>: Methods to assign a set of objects into grou...</td>\n",
       "    </tr>\n",
       "    <tr>\n",
       "      <th>289</th>\n",
       "      <td>: A tree of questions to guide an end user to ...</td>\n",
       "    </tr>\n",
       "    <tr>\n",
       "      <th>294</th>\n",
       "      <td>: used as a variable reduction technique to id...</td>\n",
       "    </tr>\n",
       "    <tr>\n",
       "      <th>298</th>\n",
       "      <td>The degree to which the predicted values creat...</td>\n",
       "    </tr>\n",
       "    <tr>\n",
       "      <th>299</th>\n",
       "      <td>: Hadoop is an Open Source framework that supp...</td>\n",
       "    </tr>\n",
       "    <tr>\n",
       "      <th>303</th>\n",
       "      <td>: Popular clustering algorithm where for a giv...</td>\n",
       "    </tr>\n",
       "    <tr>\n",
       "      <th>307</th>\n",
       "      <td>Apache Mahout is an Apache project to produce...</td>\n",
       "    </tr>\n",
       "    <tr>\n",
       "      <th>309</th>\n",
       "      <td>: Model for processing large amounts of data e...</td>\n",
       "    </tr>\n",
       "    <tr>\n",
       "      <th>314</th>\n",
       "      <td>: Computing expectations and probabilities in ...</td>\n",
       "    </tr>\n",
       "    <tr>\n",
       "      <th>318</th>\n",
       "      <td>: \"Not only SQL\" is a group of database manage...</td>\n",
       "    </tr>\n",
       "    <tr>\n",
       "      <th>320</th>\n",
       "      <td>: reduce space dimension by projecting a N*N  ...</td>\n",
       "    </tr>\n",
       "    <tr>\n",
       "      <th>324</th>\n",
       "      <td>: Pig is a scripting interface to Hadoop, mean...</td>\n",
       "    </tr>\n",
       "    <tr>\n",
       "      <th>329</th>\n",
       "      <td>Variable selection process for multivariate re...</td>\n",
       "    </tr>\n",
       "    <tr>\n",
       "      <th>330</th>\n",
       "      <td>). Backwards selection starts with all variabl...</td>\n",
       "    </tr>\n",
       "    <tr>\n",
       "      <th>332</th>\n",
       "      <td>impacts which variables are kept, and that the...</td>\n",
       "    </tr>\n",
       "    <tr>\n",
       "      <th>335</th>\n",
       "      <td>Time Series: A set of (t, x) values where x is...</td>\n",
       "    </tr>\n",
       "    <tr>\n",
       "      <th>340</th>\n",
       "      <td>High level explanations of Data Science Buzzwo...</td>\n",
       "    </tr>\n",
       "    <tr>\n",
       "      <th>342</th>\n",
       "      <td>Features/covariates/explanatory variables/pred...</td>\n",
       "    </tr>\n",
       "    <tr>\n",
       "      <th>343</th>\n",
       "      <td>Target Variable/dependent variable/response va...</td>\n",
       "    </tr>\n",
       "    <tr>\n",
       "      <th>364</th>\n",
       "      <td>How I passed the TensorFlow Developer Certific...</td>\n",
       "    </tr>\n",
       "    <tr>\n",
       "      <th>367</th>\n",
       "      <td>How I Would Learn Data Science (If I Had to St...</td>\n",
       "    </tr>\n",
       "    <tr>\n",
       "      <th>368</th>\n",
       "      <td>How to process a DataFrame with billions of ro...</td>\n",
       "    </tr>\n",
       "    <tr>\n",
       "      <th>370</th>\n",
       "      <td>20 Best VS Code Extensions for Productive Web ...</td>\n",
       "    </tr>\n",
       "    <tr>\n",
       "      <th>397</th>\n",
       "      <td>Concordant Pair or Discordant Pair ratio = (No...</td>\n",
       "    </tr>\n",
       "    <tr>\n",
       "      <th>398</th>\n",
       "      <td>Density-Based Spatial Clustering of Applicatio...</td>\n",
       "    </tr>\n",
       "    <tr>\n",
       "      <th>427</th>\n",
       "      <td>/home/odsc1733/opendatascience.com/wp-includes...</td>\n",
       "    </tr>\n",
       "  </tbody>\n",
       "</table>\n",
       "</div>"
      ],
      "text/plain": [
       "                                                 terms\n",
       "38   A recurrent neural network is a class of artif...\n",
       "178  Neural Style Transfer (AI in art) with Keras a...\n",
       "179  Artificial intelligence enables COVID-19 lung ...\n",
       "281   (R-Square): The method preferred by statistic...\n",
       "287  : Methods to assign a set of objects into grou...\n",
       "289  : A tree of questions to guide an end user to ...\n",
       "294  : used as a variable reduction technique to id...\n",
       "298  The degree to which the predicted values creat...\n",
       "299  : Hadoop is an Open Source framework that supp...\n",
       "303  : Popular clustering algorithm where for a giv...\n",
       "307   Apache Mahout is an Apache project to produce...\n",
       "309  : Model for processing large amounts of data e...\n",
       "314  : Computing expectations and probabilities in ...\n",
       "318  : \"Not only SQL\" is a group of database manage...\n",
       "320  : reduce space dimension by projecting a N*N  ...\n",
       "324  : Pig is a scripting interface to Hadoop, mean...\n",
       "329  Variable selection process for multivariate re...\n",
       "330  ). Backwards selection starts with all variabl...\n",
       "332  impacts which variables are kept, and that the...\n",
       "335  Time Series: A set of (t, x) values where x is...\n",
       "340  High level explanations of Data Science Buzzwo...\n",
       "342  Features/covariates/explanatory variables/pred...\n",
       "343  Target Variable/dependent variable/response va...\n",
       "364  How I passed the TensorFlow Developer Certific...\n",
       "367  How I Would Learn Data Science (If I Had to St...\n",
       "368  How to process a DataFrame with billions of ro...\n",
       "370  20 Best VS Code Extensions for Productive Web ...\n",
       "397  Concordant Pair or Discordant Pair ratio = (No...\n",
       "398  Density-Based Spatial Clustering of Applicatio...\n",
       "427  /home/odsc1733/opendatascience.com/wp-includes..."
      ]
     },
     "execution_count": 294,
     "metadata": {},
     "output_type": "execute_result"
    }
   ],
   "source": [
    "# find terms, which need to be removed based on their length and make sure there are no terms, which need to be kept.\n",
    "new_terms_df[new_terms_df['terms'].str.len() >= 50]"
   ]
  },
  {
   "cell_type": "code",
   "execution_count": 295,
   "metadata": {},
   "outputs": [],
   "source": [
    "# save only the entries with string length less than 50 to a new data frame\n",
    "new_terms_df_clean = new_terms_df[new_terms_df['terms'].str.len() < 50]"
   ]
  },
  {
   "cell_type": "code",
   "execution_count": 296,
   "metadata": {},
   "outputs": [
    {
     "data": {
      "text/plain": [
       "453"
      ]
     },
     "execution_count": 296,
     "metadata": {},
     "output_type": "execute_result"
    }
   ],
   "source": [
    "# data frame length before removing long strings\n",
    "new_terms_df.shape[0]"
   ]
  },
  {
   "cell_type": "code",
   "execution_count": 299,
   "metadata": {},
   "outputs": [
    {
     "data": {
      "text/plain": [
       "423"
      ]
     },
     "execution_count": 299,
     "metadata": {},
     "output_type": "execute_result"
    }
   ],
   "source": [
    "# data fram length after removing long strings\n",
    "new_terms_df_clean.shape[0]"
   ]
  },
  {
   "cell_type": "code",
   "execution_count": 300,
   "metadata": {},
   "outputs": [],
   "source": [
    "#save the clean new terms data frame into a new csv file\n",
    "new_terms_df_clean.to_csv (r'new_terms.csv', index = False, header=True)"
   ]
  },
  {
   "cell_type": "code",
   "execution_count": null,
   "metadata": {},
   "outputs": [],
   "source": []
  }
 ],
 "metadata": {
  "kernelspec": {
   "display_name": "Python 3",
   "language": "python",
   "name": "python3"
  },
  "language_info": {
   "codemirror_mode": {
    "name": "ipython",
    "version": 3
   },
   "file_extension": ".py",
   "mimetype": "text/x-python",
   "name": "python",
   "nbconvert_exporter": "python",
   "pygments_lexer": "ipython3",
   "version": "3.7.3"
  }
 },
 "nbformat": 4,
 "nbformat_minor": 2
}
