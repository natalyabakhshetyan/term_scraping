{
 "cells": [
  {
   "cell_type": "markdown",
   "metadata": {},
   "source": [
    "The code in this notebook is used to scrape data science terms from the following sources:\n",
    "1. https://www.datasciencecentral.com/profiles/blogs/data-science-glossary\n",
    "2. https://towardsdatascience.com/ai-ml-or-data-science-a-glossary-of-terms-529435823bb6\n",
    "3. https://www.kdnuggets.com/2018/02/data-science-glossary.html\n",
    "4. https://www.kaggle.com/shivamb/data-science-glossary-on-kaggle\n",
    "5. https://www.google.com/amp/s/acadgild.com/blog/the-data-science-glossary-the-fundamentals-data-science/amp\n",
    "6. https://www.google.com/amp/s/mc.ai/data-science-glossary/%3Famp\n",
    "7. https://medium.com/@ODSC/the-2019-data-science-dictionary-key-terms-you-need-to-know-f6abe4082c40\n",
    "8. http://www.datascienceglossary.org/\n",
    "9. https://www.datacamp.com/community/news/data-science-dictionary-fa1c3g1oc2p\n",
    "10. https://towardsdatascience.com/the-new-data-scientist-glossary-4a2c14bf550\n",
    "11. https://www.springboard.com/blog/data-science-terms/#\n",
    "12. https://www.analyticsvidhya.com/glossary-of-common-statistics-and-machine-learning-terms/\n",
    "13. https://opendatascience.com/the-2020-data-science-dictionary-key-terms-you-need-to-know/\n",
    "14. https://www.dataquest.io/blog/data-science-glossary/\n",
    "15. https://www.datasciencecentral.com/profiles/blogs/my-data-science-glossary\n",
    "16. https://www.bernardmarr.com/default.asp?contentID=1446\n",
    "17. https://cdn2.hubspot.net/hubfs/488776/Summit/Partner_Summit_2016/Data_Science_Glossary.pdf\n",
    "18. http://rocketdatascience.org/?p=1253"
   ]
  },
  {
   "cell_type": "markdown",
   "metadata": {},
   "source": [
    "Notes:\n",
    "\n",
    "- Terms from sources #2 and #17 will be added manually.\n",
    "- Source #15 is a duplicate.\n",
    "- Source #18 contains other glossary sources, which can be considered for collecting more terms in the future.\n",
    "- The collected data will require some manual cleaning."
   ]
  },
  {
   "cell_type": "code",
   "execution_count": 54,
   "metadata": {},
   "outputs": [],
   "source": [
    "from lxml import html\n",
    "import requests\n",
    "import pandas as pd"
   ]
  },
  {
   "cell_type": "code",
   "execution_count": 55,
   "metadata": {},
   "outputs": [
    {
     "data": {
      "text/html": [
       "<div>\n",
       "<style scoped>\n",
       "    .dataframe tbody tr th:only-of-type {\n",
       "        vertical-align: middle;\n",
       "    }\n",
       "\n",
       "    .dataframe tbody tr th {\n",
       "        vertical-align: top;\n",
       "    }\n",
       "\n",
       "    .dataframe thead th {\n",
       "        text-align: right;\n",
       "    }\n",
       "</style>\n",
       "<table border=\"1\" class=\"dataframe\">\n",
       "  <thead>\n",
       "    <tr style=\"text-align: right;\">\n",
       "      <th></th>\n",
       "      <th>0</th>\n",
       "    </tr>\n",
       "  </thead>\n",
       "  <tbody>\n",
       "    <tr>\n",
       "      <th>0</th>\n",
       "      <td>data augmentation</td>\n",
       "    </tr>\n",
       "    <tr>\n",
       "      <th>1</th>\n",
       "      <td>convex function</td>\n",
       "    </tr>\n",
       "    <tr>\n",
       "      <th>2</th>\n",
       "      <td>cosine similarity</td>\n",
       "    </tr>\n",
       "    <tr>\n",
       "      <th>3</th>\n",
       "      <td>concave</td>\n",
       "    </tr>\n",
       "    <tr>\n",
       "      <th>4</th>\n",
       "      <td>cost function</td>\n",
       "    </tr>\n",
       "  </tbody>\n",
       "</table>\n",
       "</div>"
      ],
      "text/plain": [
       "                   0\n",
       "0  data augmentation\n",
       "1    convex function\n",
       "2  cosine similarity\n",
       "3            concave\n",
       "4      cost function"
      ]
     },
     "execution_count": 55,
     "metadata": {},
     "output_type": "execute_result"
    }
   ],
   "source": [
    "# create a data frame with initial terms\n",
    "initial_df = pd.read_csv('initial_terms.csv', header=None)\n",
    "initial_df.head()"
   ]
  },
  {
   "cell_type": "code",
   "execution_count": 56,
   "metadata": {},
   "outputs": [],
   "source": [
    "#convert data frame with initial terms to a list\n",
    "initial_terms = initial_df[0].to_list()"
   ]
  },
  {
   "cell_type": "code",
   "execution_count": 65,
   "metadata": {},
   "outputs": [],
   "source": [
    "# get html and save it in tree\n",
    "\n",
    "page = requests.get('https://www.datasciencecentral.com/profiles/blogs/data-science-glossary')\n",
    "tree1 = html.fromstring(page.content)"
   ]
  },
  {
   "cell_type": "code",
   "execution_count": 93,
   "metadata": {},
   "outputs": [],
   "source": [
    "# get html and save it in tree\n",
    "\n",
    "page = requests.get('https://www.kdnuggets.com/2018/02/data-science-glossary.html')\n",
    "tree3a = html.fromstring(page.content)"
   ]
  },
  {
   "cell_type": "code",
   "execution_count": 94,
   "metadata": {},
   "outputs": [],
   "source": [
    "# get html and save it in tree\n",
    "\n",
    "page = requests.get('https://www.kdnuggets.com/2018/02/data-science-glossary.html/2')\n",
    "tree3b = html.fromstring(page.content)"
   ]
  },
  {
   "cell_type": "code",
   "execution_count": 116,
   "metadata": {},
   "outputs": [],
   "source": [
    "# get html and save it in tree\n",
    "\n",
    "page = requests.get('https://www.kaggleusercontent.com/kf/8286393/eyJhbGciOiJkaXIiLCJlbmMiOiJBMTI4Q0JDLUhTMjU2In0..zmY9Ntqb6g7WHUCFc_XlBQ.5XTY1qWWVXxIuIwCcxjhHCqOxmFa7GHwzZFJCyC5xAQ8-KjB2pOZgsExyiqWbtJvfmT12vmip_l9VOZRKgod951EWJ429y8-E99_olQmleQKPS6rjm1vP-ADgiQJLcBnM3x9ZPV-Oamathodbt7LKgbTLmwDZ3vB7cuYs4sqd2al01vRBAvbi8aFz4W5pK1wvis1Jn2RuajKLDIGSA4zwaqCPnDKyUEz5FAUqP2GB80S9Dd_cUDSjgI5GshgWACv0uD7u2m8XpT2R9dW0k0LmVu6yY0VLSkCzYrgAuRc6wMBMr8KVbkq1-o5SqZSOp1jzRj_1SLuJdsm6fw5iOKns7uV333GXdECDGbUycRxXIr9RtklKaNZrd_E40KYNtTbRrp01d6fhYRpJl0Oe2JROHUETd8eVGPdGtu4RFwe9hmxVNcSqY3oNhaSMii8idSHYAgwzqPpJF0ht8f1PAU5Px68_W-8mME5nv-_-4qHd8Y49wVRy-Ihrs5mZeFQbVywwj7PX26IJWBFc1u5DHNl1-huWSouwVrESf9MzvVfgjW2zsP1B3nvj76E-92ynslMAX7PJtiP-b5eIPOL3IudfKPb7dB17ccarZeVv4vGmysZ11gPMHDFDvv4C6EM5EkDaAexzBR4UXq8aMat94z-KC5Tx3IFBkGINpQe7VmTHoA.q5SrcJiy7vhk3OKvzxXvMg/__results__.html')\n",
    "tree4 = html.fromstring(page.content)"
   ]
  },
  {
   "cell_type": "code",
   "execution_count": 137,
   "metadata": {},
   "outputs": [],
   "source": [
    "# get html and save it in tree\n",
    "\n",
    "page = requests.get('https://acadgild.com/blog/the-data-science-glossary-the-fundamentals-data-science')\n",
    "tree5 = html.fromstring(page.content)"
   ]
  },
  {
   "cell_type": "code",
   "execution_count": 140,
   "metadata": {},
   "outputs": [],
   "source": [
    "# get html and save it in tree\n",
    "\n",
    "page = requests.get('https://mc.ai/data-science-glossary/')\n",
    "tree6 = html.fromstring(page.content)"
   ]
  },
  {
   "cell_type": "code",
   "execution_count": 143,
   "metadata": {},
   "outputs": [],
   "source": [
    "# get html and save it in tree\n",
    "\n",
    "page = requests.get('https://medium.com/@ODSC/the-2019-data-science-dictionary-key-terms-you-need-to-know-f6abe4082c40')\n",
    "tree7 = html.fromstring(page.content)"
   ]
  },
  {
   "cell_type": "code",
   "execution_count": 150,
   "metadata": {},
   "outputs": [],
   "source": [
    "# get html and save it in tree\n",
    "page = requests.get('http://www.datascienceglossary.org/')\n",
    "tree8 = html.fromstring(page.content)"
   ]
  },
  {
   "cell_type": "code",
   "execution_count": 151,
   "metadata": {},
   "outputs": [],
   "source": [
    "# get html and save it in tree\n",
    "page = requests.get('https://www.analyticbridge.datasciencecentral.com/profiles/blogs/2004291:BlogPost:223153?utm_campaign=News&utm_medium=Community&utm_source=DataCamp.com')\n",
    "tree9 = html.fromstring(page.content)"
   ]
  },
  {
   "cell_type": "code",
   "execution_count": 164,
   "metadata": {},
   "outputs": [],
   "source": [
    "# get html and save it in tree\n",
    "page = requests.get('https://towardsdatascience.com/the-new-data-scientist-glossary-4a2c14bf550')\n",
    "tree10 = html.fromstring(page.content)"
   ]
  },
  {
   "cell_type": "code",
   "execution_count": 169,
   "metadata": {},
   "outputs": [],
   "source": [
    "# get html and save it in tree\n",
    "page = requests.get('https://www.springboard.com/blog/data-science-terms/#')\n",
    "tree11 = html.fromstring(page.content)"
   ]
  },
  {
   "cell_type": "code",
   "execution_count": 173,
   "metadata": {},
   "outputs": [],
   "source": [
    "# get html and save it in tree\n",
    "page = requests.get('https://www.analyticsvidhya.com/glossary-of-common-statistics-and-machine-learning-terms/')\n",
    "tree12 = html.fromstring(page.content)"
   ]
  },
  {
   "cell_type": "code",
   "execution_count": 185,
   "metadata": {},
   "outputs": [],
   "source": [
    "# get html and save it in tree\n",
    "page = requests.get('https://opendatascience.com/the-2020-data-science-dictionary-key-terms-you-need-to-know/')\n",
    "tree13 = html.fromstring(page.content)"
   ]
  },
  {
   "cell_type": "code",
   "execution_count": 200,
   "metadata": {},
   "outputs": [],
   "source": [
    "# get html and save it in tree\n",
    "page = requests.get('https://www.dataquest.io/blog/data-science-glossary/')\n",
    "tree14 = html.fromstring(page.content)"
   ]
  },
  {
   "cell_type": "code",
   "execution_count": 208,
   "metadata": {},
   "outputs": [],
   "source": [
    "# get html and save it in tree\n",
    "page = requests.get('https://www.bernardmarr.com/default.asp?contentID=1446')\n",
    "tree16 = html.fromstring(page.content)"
   ]
  },
  {
   "cell_type": "code",
   "execution_count": 209,
   "metadata": {},
   "outputs": [],
   "source": [
    "# get the terms from html and save in a list\n",
    "terms1 = tree1.xpath('// div [@ class = \"xg_user_generated\"] //li// text()')\n",
    "terms3a = tree3a.xpath('// div [@ id = \"post-\"] //b// text()')\n",
    "terms3b = tree3b.xpath('// div [@ id = \"post-\"] //b// text()')\n",
    "terms4 = tree4.xpath('// div [@ class = \"text_cell_render border-box-sizing rendered_html\"] //li//a// text()')\n",
    "terms5 = tree5.xpath('//h2//text()')\n",
    "terms6 = tree6.xpath('//h3//text()')\n",
    "terms7 = tree7.xpath('//strong//text()')\n",
    "terms8 = tree8.xpath('//dfn//text()')\n",
    "terms9 = tree9.xpath('// div [@ class = \"xg_user_generated\"]//li//span//text()')\n",
    "terms10 = tree10.xpath('//h2//text()')\n",
    "terms11 = tree11.xpath('//h3//text()')\n",
    "terms12 = tree12.xpath('//td//b//text()')\n",
    "terms13 = tree13.xpath('//b//text()')\n",
    "terms14 = tree14.xpath('//h3//text()')\n",
    "terms16 = tree16.xpath('//p//strong//text()')"
   ]
  },
  {
   "cell_type": "code",
   "execution_count": 134,
   "metadata": {},
   "outputs": [],
   "source": [
    "# extract terms from each string in the list of terms1\n",
    "terms1 = [i.split(':', 1)[0] for i in terms1]"
   ]
  },
  {
   "cell_type": "code",
   "execution_count": 135,
   "metadata": {},
   "outputs": [],
   "source": [
    "# extract terms from each string in the list of terms3\n",
    "terms4 = [i.split(' ', 1)[1] for i in terms4]"
   ]
  },
  {
   "cell_type": "code",
   "execution_count": 146,
   "metadata": {},
   "outputs": [],
   "source": [
    "# extract terms from each string in the list of terms7\n",
    "terms7 = [i.split(':')[0] for i in terms7]"
   ]
  },
  {
   "cell_type": "code",
   "execution_count": 206,
   "metadata": {},
   "outputs": [],
   "source": [
    "# remove wrong items from terms 14 list\n",
    "terms14 = terms14[4:]\n",
    "# extract terms from each string in the list of terms14\n",
    "terms14= [i.split('\\n    ')[1] for i in terms14]"
   ]
  },
  {
   "cell_type": "code",
   "execution_count": null,
   "metadata": {},
   "outputs": [],
   "source": [
    "# combine all lists into one list then for each term if that term is not in initial \n",
    "# list then append to new_terms then convert new_terms to data frame then remove duplicates"
   ]
  },
  {
   "cell_type": "code",
   "execution_count": 60,
   "metadata": {},
   "outputs": [],
   "source": [
    "# create a list for new terms\n",
    "new_terms = [] "
   ]
  },
  {
   "cell_type": "code",
   "execution_count": 61,
   "metadata": {},
   "outputs": [],
   "source": [
    "# append term to the new list if it's not present in the initial list\n",
    "for term in terms8:\n",
    "    if term not in initial_terms:\n",
    "        new_terms.append(term)"
   ]
  },
  {
   "cell_type": "code",
   "execution_count": 62,
   "metadata": {},
   "outputs": [
    {
     "data": {
      "text/plain": [
       "['AngularJS',\n",
       " 'artificial intelligence',\n",
       " \"Bayes' Theorem\",\n",
       " 'Bayesian network',\n",
       " 'bias',\n",
       " 'Big Data',\n",
       " 'chi-square test',\n",
       " 'classification',\n",
       " 'clustering',\n",
       " 'coefficient',\n",
       " 'computational linguistics',\n",
       " 'confidence interval',\n",
       " 'continuous variable',\n",
       " 'cross-validation',\n",
       " 'D3',\n",
       " 'data engineer',\n",
       " 'data mining',\n",
       " 'data science',\n",
       " 'data structure',\n",
       " 'data wrangling',\n",
       " 'decision trees',\n",
       " 'deep learning',\n",
       " 'dependent variable',\n",
       " 'dimension reduction',\n",
       " 'discrete variable',\n",
       " 'econometrics',\n",
       " 'feature',\n",
       " 'feature engineering',\n",
       " 'GATE',\n",
       " 'gradient boosting',\n",
       " 'histogram',\n",
       " 'independent variable',\n",
       " 'JavaScript',\n",
       " 'k-means clustering',\n",
       " 'k-nearest neighbors',\n",
       " 'latent variable',\n",
       " 'lift',\n",
       " 'linear algebra',\n",
       " 'linear regression',\n",
       " 'logarithm',\n",
       " 'logistic regression',\n",
       " 'machine learning model',\n",
       " 'Markov Chain',\n",
       " 'MATLAB',\n",
       " 'matrix',\n",
       " 'mean',\n",
       " 'Mean Absolute Error',\n",
       " 'Mean Squared Error',\n",
       " 'median',\n",
       " 'mode',\n",
       " 'Monte Carlo method',\n",
       " 'moving average',\n",
       " 'n-gram',\n",
       " 'naive Bayes classifier',\n",
       " 'normal distribution',\n",
       " 'NoSQL',\n",
       " 'null hypothesis',\n",
       " 'objective function',\n",
       " 'outlier',\n",
       " 'P value',\n",
       " 'PageRank',\n",
       " 'Pandas',\n",
       " 'perceptron',\n",
       " 'Perl',\n",
       " 'pivot table',\n",
       " 'Poisson distribution',\n",
       " 'posterior distribution',\n",
       " 'predictive analytics',\n",
       " 'predictive modeling',\n",
       " 'principal component analysis',\n",
       " 'prior distribution',\n",
       " 'probability distribution',\n",
       " 'Python',\n",
       " 'quantile, quartile',\n",
       " 'R',\n",
       " 'random forest',\n",
       " 'Root Mean Squared Error',\n",
       " 'Ruby',\n",
       " 'S curve',\n",
       " 'SAS',\n",
       " 'scalar',\n",
       " 'scripting',\n",
       " 'serial correlation',\n",
       " 'shell',\n",
       " 'spatiotemporal data',\n",
       " 'SPSS',\n",
       " 'SQL',\n",
       " 'standard normal distribution',\n",
       " 'standardized score',\n",
       " 'Stata',\n",
       " 'strata, stratified sampling',\n",
       " 'support vector machine',\n",
       " 't-distribution',\n",
       " 'Tableau',\n",
       " 'time series data',\n",
       " 'UIMA',\n",
       " 'vector',\n",
       " 'vector space',\n",
       " 'Weka']"
      ]
     },
     "execution_count": 62,
     "metadata": {},
     "output_type": "execute_result"
    }
   ],
   "source": [
    "# confirm success of the previous step\n",
    "new_terms"
   ]
  },
  {
   "cell_type": "code",
   "execution_count": null,
   "metadata": {},
   "outputs": [],
   "source": [
    "# convert new list to data frame and save it to a new csv file"
   ]
  }
 ],
 "metadata": {
  "kernelspec": {
   "display_name": "Python 3",
   "language": "python",
   "name": "python3"
  },
  "language_info": {
   "codemirror_mode": {
    "name": "ipython",
    "version": 3
   },
   "file_extension": ".py",
   "mimetype": "text/x-python",
   "name": "python",
   "nbconvert_exporter": "python",
   "pygments_lexer": "ipython3",
   "version": "3.7.3"
  }
 },
 "nbformat": 4,
 "nbformat_minor": 2
}
