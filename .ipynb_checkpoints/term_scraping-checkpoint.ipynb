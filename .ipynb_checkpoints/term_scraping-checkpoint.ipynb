{
 "cells": [
  {
   "cell_type": "code",
   "execution_count": 9,
   "metadata": {},
   "outputs": [],
   "source": [
    "from lxml import html\n",
    "import requests\n",
    "import pandas as pd"
   ]
  },
  {
   "cell_type": "code",
   "execution_count": 7,
   "metadata": {},
   "outputs": [
    {
     "data": {
      "text/html": [
       "<div>\n",
       "<style scoped>\n",
       "    .dataframe tbody tr th:only-of-type {\n",
       "        vertical-align: middle;\n",
       "    }\n",
       "\n",
       "    .dataframe tbody tr th {\n",
       "        vertical-align: top;\n",
       "    }\n",
       "\n",
       "    .dataframe thead th {\n",
       "        text-align: right;\n",
       "    }\n",
       "</style>\n",
       "<table border=\"1\" class=\"dataframe\">\n",
       "  <thead>\n",
       "    <tr style=\"text-align: right;\">\n",
       "      <th></th>\n",
       "      <th>0</th>\n",
       "    </tr>\n",
       "  </thead>\n",
       "  <tbody>\n",
       "    <tr>\n",
       "      <th>0</th>\n",
       "      <td>data augmentation</td>\n",
       "    </tr>\n",
       "    <tr>\n",
       "      <th>1</th>\n",
       "      <td>convex function</td>\n",
       "    </tr>\n",
       "    <tr>\n",
       "      <th>2</th>\n",
       "      <td>cosine similarity</td>\n",
       "    </tr>\n",
       "    <tr>\n",
       "      <th>3</th>\n",
       "      <td>concave</td>\n",
       "    </tr>\n",
       "    <tr>\n",
       "      <th>4</th>\n",
       "      <td>cost function</td>\n",
       "    </tr>\n",
       "  </tbody>\n",
       "</table>\n",
       "</div>"
      ],
      "text/plain": [
       "                   0\n",
       "0  data augmentation\n",
       "1    convex function\n",
       "2  cosine similarity\n",
       "3            concave\n",
       "4      cost function"
      ]
     },
     "execution_count": 7,
     "metadata": {},
     "output_type": "execute_result"
    }
   ],
   "source": [
    "# create a data frame with initial terms\n",
    "initial_df = pd.read_csv('initial_terms.csv', header=None)\n",
    "initial_df.head()"
   ]
  },
  {
   "cell_type": "code",
   "execution_count": 11,
   "metadata": {},
   "outputs": [],
   "source": [
    "# get html and save it in tree\n",
    "page = requests.get('http://www.datascienceglossary.org/')\n",
    "tree = html.fromstring(page.content)"
   ]
  },
  {
   "cell_type": "code",
   "execution_count": 16,
   "metadata": {},
   "outputs": [],
   "source": [
    "# get the terms from html and save in a list\n",
    "terms = tree.xpath('//dfn//text()')"
   ]
  },
  {
   "cell_type": "code",
   "execution_count": 17,
   "metadata": {},
   "outputs": [
    {
     "data": {
      "text/plain": [
       "['algorithm',\n",
       " 'AngularJS',\n",
       " 'artificial intelligence',\n",
       " 'backpropagation',\n",
       " \"Bayes' Theorem\",\n",
       " 'Bayesian network',\n",
       " 'bias',\n",
       " 'Big Data',\n",
       " 'binomial distribution',\n",
       " 'chi-square test',\n",
       " 'classification',\n",
       " 'clustering',\n",
       " 'coefficient',\n",
       " 'computational linguistics',\n",
       " 'confidence interval',\n",
       " 'continuous variable',\n",
       " 'correlation',\n",
       " 'covariance',\n",
       " 'cross-validation',\n",
       " 'D3',\n",
       " 'data engineer',\n",
       " 'data mining',\n",
       " 'data science',\n",
       " 'data structure',\n",
       " 'data wrangling',\n",
       " 'decision trees',\n",
       " 'deep learning',\n",
       " 'dependent variable',\n",
       " 'dimension reduction',\n",
       " 'discrete variable',\n",
       " 'econometrics',\n",
       " 'feature',\n",
       " 'feature engineering',\n",
       " 'GATE',\n",
       " 'gradient boosting',\n",
       " 'gradient descent',\n",
       " 'histogram',\n",
       " 'independent variable',\n",
       " 'JavaScript',\n",
       " 'k-means clustering',\n",
       " 'k-nearest neighbors',\n",
       " 'latent variable',\n",
       " 'lift',\n",
       " 'linear algebra',\n",
       " 'linear regression',\n",
       " 'logarithm',\n",
       " 'logistic regression',\n",
       " 'machine learning',\n",
       " 'machine learning model',\n",
       " 'Markov Chain',\n",
       " 'MATLAB',\n",
       " 'matrix',\n",
       " 'mean',\n",
       " 'Mean Absolute Error',\n",
       " 'Mean Squared Error',\n",
       " 'median',\n",
       " 'mode',\n",
       " 'model',\n",
       " 'Monte Carlo method',\n",
       " 'moving average',\n",
       " 'n-gram',\n",
       " 'naive Bayes classifier',\n",
       " 'neural network',\n",
       " 'normal distribution',\n",
       " 'NoSQL',\n",
       " 'null hypothesis',\n",
       " 'objective function',\n",
       " 'outlier',\n",
       " 'overfitting',\n",
       " 'P value',\n",
       " 'PageRank',\n",
       " 'Pandas',\n",
       " 'perceptron',\n",
       " 'Perl',\n",
       " 'pivot table',\n",
       " 'Poisson distribution',\n",
       " 'posterior distribution',\n",
       " 'predictive analytics',\n",
       " 'predictive modeling',\n",
       " 'principal component analysis',\n",
       " 'prior distribution',\n",
       " 'probability distribution',\n",
       " 'Python',\n",
       " 'quantile, quartile',\n",
       " 'R',\n",
       " 'random forest',\n",
       " 'regression',\n",
       " 'reinforcement learning',\n",
       " 'Root Mean Squared Error',\n",
       " 'Ruby',\n",
       " 'S curve',\n",
       " 'SAS',\n",
       " 'scalar',\n",
       " 'scripting',\n",
       " 'serial correlation',\n",
       " 'shell',\n",
       " 'spatiotemporal data',\n",
       " 'SPSS',\n",
       " 'SQL',\n",
       " 'standard deviation',\n",
       " 'standard normal distribution',\n",
       " 'standardized score',\n",
       " 'Stata',\n",
       " 'strata, stratified sampling',\n",
       " 'supervised learning',\n",
       " 'support vector machine',\n",
       " 't-distribution',\n",
       " 'Tableau',\n",
       " 'time series data',\n",
       " 'UIMA',\n",
       " 'unsupervised learning',\n",
       " 'variance',\n",
       " 'vector',\n",
       " 'vector space',\n",
       " 'Weka']"
      ]
     },
     "execution_count": 17,
     "metadata": {},
     "output_type": "execute_result"
    }
   ],
   "source": [
    "# confirm success of the previous step\n",
    "terms"
   ]
  },
  {
   "cell_type": "code",
   "execution_count": 18,
   "metadata": {},
   "outputs": [],
   "source": [
    "new_terms = pd.DataFrame() "
   ]
  },
  {
   "cell_type": "code",
   "execution_count": 19,
   "metadata": {},
   "outputs": [
    {
     "data": {
      "text/html": [
       "<div>\n",
       "<style scoped>\n",
       "    .dataframe tbody tr th:only-of-type {\n",
       "        vertical-align: middle;\n",
       "    }\n",
       "\n",
       "    .dataframe tbody tr th {\n",
       "        vertical-align: top;\n",
       "    }\n",
       "\n",
       "    .dataframe thead th {\n",
       "        text-align: right;\n",
       "    }\n",
       "</style>\n",
       "<table border=\"1\" class=\"dataframe\">\n",
       "  <thead>\n",
       "    <tr style=\"text-align: right;\">\n",
       "      <th></th>\n",
       "    </tr>\n",
       "  </thead>\n",
       "  <tbody>\n",
       "  </tbody>\n",
       "</table>\n",
       "</div>"
      ],
      "text/plain": [
       "Empty DataFrame\n",
       "Columns: []\n",
       "Index: []"
      ]
     },
     "execution_count": 19,
     "metadata": {},
     "output_type": "execute_result"
    }
   ],
   "source": [
    "new_terms"
   ]
  },
  {
   "cell_type": "code",
   "execution_count": null,
   "metadata": {},
   "outputs": [],
   "source": []
  }
 ],
 "metadata": {
  "kernelspec": {
   "display_name": "Python 3",
   "language": "python",
   "name": "python3"
  },
  "language_info": {
   "codemirror_mode": {
    "name": "ipython",
    "version": 3
   },
   "file_extension": ".py",
   "mimetype": "text/x-python",
   "name": "python",
   "nbconvert_exporter": "python",
   "pygments_lexer": "ipython3",
   "version": "3.7.3"
  }
 },
 "nbformat": 4,
 "nbformat_minor": 2
}
